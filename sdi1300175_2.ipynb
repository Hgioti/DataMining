{
  "nbformat": 4,
  "nbformat_minor": 0,
  "metadata": {
    "kernelspec": {
      "display_name": "Python 3.7.4 64-bit ('anaconda3': virtualenv)",
      "language": "python",
      "name": "python37464bitanaconda3virtualenv20e32cd63c6f41078b835cd28470013b"
    },
    "language_info": {
      "codemirror_mode": {
        "name": "ipython",
        "version": 3
      },
      "file_extension": ".py",
      "mimetype": "text/x-python",
      "name": "python",
      "nbconvert_exporter": "python",
      "pygments_lexer": "ipython3",
      "version": "3.7.4"
    },
    "colab": {
      "name": "sdi1300175_2(1).ipynb",
      "provenance": [],
      "collapsed_sections": []
    }
  },
  "cells": [
    {
      "cell_type": "markdown",
      "metadata": {
        "id": "TEbu0x4mno9-"
      },
      "source": [
        "#Εργασία 2 Τεχνικές Εξόρυξης Δεδομένων 2020-2021\n",
        "sdi1300175 Ηλίας Τζιώτης \n",
        "\n",
        "Η εργασία αυτή είναι ατομική όπως και η προηγούμενη."
      ]
    },
    {
      "cell_type": "markdown",
      "metadata": {
        "id": "eO73rxPWno-B"
      },
      "source": [
        "#Session Start\n",
        "Importing libraries and csv"
      ]
    },
    {
      "cell_type": "code",
      "metadata": {
        "id": "0lSGUAilno-D"
      },
      "source": [
        "import os\n",
        "import pandas as pd\n",
        "import datetime as dt\n",
        "from string import punctuation\n",
        "import matplotlib.pyplot as plt\n",
        "import nltk\n",
        "import re\n",
        "import gensim\n",
        "import numpy as np\n",
        "import io"
      ],
      "execution_count": 3,
      "outputs": []
    },
    {
      "cell_type": "code",
      "metadata": {
        "colab": {
          "resources": {
            "http://localhost:8080/nbextensions/google.colab/files.js": {
              "data": "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",
              "ok": true,
              "headers": [
                [
                  "content-type",
                  "application/javascript"
                ]
              ],
              "status": 200,
              "status_text": "OK"
            }
          },
          "base_uri": "https://localhost:8080/",
          "height": 572
        },
        "id": "plAXqBO7J01f",
        "outputId": "b8605b4e-f74b-406f-9dbb-4e0a2b28d7fb"
      },
      "source": [
        "\n",
        "from google.colab import files\n",
        "print(\"Please upload Fake.csv\")\n",
        "data_to_load = files.upload()\n",
        "pd.read_csv(io.BytesIO(data_to_load['Fake.csv']))\n",
        "print(\"Please upload True.csv\")\n",
        "data_to_load = files.upload()\n",
        "pd.read_csv(io.BytesIO(data_to_load['True.csv']))"
      ],
      "execution_count": 2,
      "outputs": [
        {
          "output_type": "stream",
          "text": [
            "Please upload Fake.csv\n"
          ],
          "name": "stdout"
        },
        {
          "output_type": "display_data",
          "data": {
            "text/html": [
              "\n",
              "     <input type=\"file\" id=\"files-9cecaaa1-87c6-4e9c-bdbc-d22ed7fe6812\" name=\"files[]\" multiple disabled\n",
              "        style=\"border:none\" />\n",
              "     <output id=\"result-9cecaaa1-87c6-4e9c-bdbc-d22ed7fe6812\">\n",
              "      Upload widget is only available when the cell has been executed in the\n",
              "      current browser session. Please rerun this cell to enable.\n",
              "      </output>\n",
              "      <script src=\"/nbextensions/google.colab/files.js\"></script> "
            ],
            "text/plain": [
              "<IPython.core.display.HTML object>"
            ]
          },
          "metadata": {
            "tags": []
          }
        },
        {
          "output_type": "stream",
          "text": [
            "Saving Fake.csv to Fake.csv\n",
            "Please upload True.csv\n"
          ],
          "name": "stdout"
        },
        {
          "output_type": "display_data",
          "data": {
            "text/html": [
              "\n",
              "     <input type=\"file\" id=\"files-013fe6e9-a8e0-4c96-bd63-155720c683f2\" name=\"files[]\" multiple disabled\n",
              "        style=\"border:none\" />\n",
              "     <output id=\"result-013fe6e9-a8e0-4c96-bd63-155720c683f2\">\n",
              "      Upload widget is only available when the cell has been executed in the\n",
              "      current browser session. Please rerun this cell to enable.\n",
              "      </output>\n",
              "      <script src=\"/nbextensions/google.colab/files.js\"></script> "
            ],
            "text/plain": [
              "<IPython.core.display.HTML object>"
            ]
          },
          "metadata": {
            "tags": []
          }
        },
        {
          "output_type": "stream",
          "text": [
            "Saving True.csv to True.csv\n"
          ],
          "name": "stdout"
        },
        {
          "output_type": "execute_result",
          "data": {
            "text/html": [
              "<div>\n",
              "<style scoped>\n",
              "    .dataframe tbody tr th:only-of-type {\n",
              "        vertical-align: middle;\n",
              "    }\n",
              "\n",
              "    .dataframe tbody tr th {\n",
              "        vertical-align: top;\n",
              "    }\n",
              "\n",
              "    .dataframe thead th {\n",
              "        text-align: right;\n",
              "    }\n",
              "</style>\n",
              "<table border=\"1\" class=\"dataframe\">\n",
              "  <thead>\n",
              "    <tr style=\"text-align: right;\">\n",
              "      <th></th>\n",
              "      <th>title</th>\n",
              "      <th>text</th>\n",
              "      <th>subject</th>\n",
              "      <th>date</th>\n",
              "    </tr>\n",
              "  </thead>\n",
              "  <tbody>\n",
              "    <tr>\n",
              "      <th>0</th>\n",
              "      <td>As U.S. budget fight looms, Republicans flip t...</td>\n",
              "      <td>WASHINGTON (Reuters) - The head of a conservat...</td>\n",
              "      <td>politicsNews</td>\n",
              "      <td>December 31, 2017</td>\n",
              "    </tr>\n",
              "    <tr>\n",
              "      <th>1</th>\n",
              "      <td>U.S. military to accept transgender recruits o...</td>\n",
              "      <td>WASHINGTON (Reuters) - Transgender people will...</td>\n",
              "      <td>politicsNews</td>\n",
              "      <td>December 29, 2017</td>\n",
              "    </tr>\n",
              "    <tr>\n",
              "      <th>2</th>\n",
              "      <td>Senior U.S. Republican senator: 'Let Mr. Muell...</td>\n",
              "      <td>WASHINGTON (Reuters) - The special counsel inv...</td>\n",
              "      <td>politicsNews</td>\n",
              "      <td>December 31, 2017</td>\n",
              "    </tr>\n",
              "    <tr>\n",
              "      <th>3</th>\n",
              "      <td>FBI Russia probe helped by Australian diplomat...</td>\n",
              "      <td>WASHINGTON (Reuters) - Trump campaign adviser ...</td>\n",
              "      <td>politicsNews</td>\n",
              "      <td>December 30, 2017</td>\n",
              "    </tr>\n",
              "    <tr>\n",
              "      <th>4</th>\n",
              "      <td>Trump wants Postal Service to charge 'much mor...</td>\n",
              "      <td>SEATTLE/WASHINGTON (Reuters) - President Donal...</td>\n",
              "      <td>politicsNews</td>\n",
              "      <td>December 29, 2017</td>\n",
              "    </tr>\n",
              "    <tr>\n",
              "      <th>...</th>\n",
              "      <td>...</td>\n",
              "      <td>...</td>\n",
              "      <td>...</td>\n",
              "      <td>...</td>\n",
              "    </tr>\n",
              "    <tr>\n",
              "      <th>21412</th>\n",
              "      <td>'Fully committed' NATO backs new U.S. approach...</td>\n",
              "      <td>BRUSSELS (Reuters) - NATO allies on Tuesday we...</td>\n",
              "      <td>worldnews</td>\n",
              "      <td>August 22, 2017</td>\n",
              "    </tr>\n",
              "    <tr>\n",
              "      <th>21413</th>\n",
              "      <td>LexisNexis withdrew two products from Chinese ...</td>\n",
              "      <td>LONDON (Reuters) - LexisNexis, a provider of l...</td>\n",
              "      <td>worldnews</td>\n",
              "      <td>August 22, 2017</td>\n",
              "    </tr>\n",
              "    <tr>\n",
              "      <th>21414</th>\n",
              "      <td>Minsk cultural hub becomes haven from authorities</td>\n",
              "      <td>MINSK (Reuters) - In the shadow of disused Sov...</td>\n",
              "      <td>worldnews</td>\n",
              "      <td>August 22, 2017</td>\n",
              "    </tr>\n",
              "    <tr>\n",
              "      <th>21415</th>\n",
              "      <td>Vatican upbeat on possibility of Pope Francis ...</td>\n",
              "      <td>MOSCOW (Reuters) - Vatican Secretary of State ...</td>\n",
              "      <td>worldnews</td>\n",
              "      <td>August 22, 2017</td>\n",
              "    </tr>\n",
              "    <tr>\n",
              "      <th>21416</th>\n",
              "      <td>Indonesia to buy $1.14 billion worth of Russia...</td>\n",
              "      <td>JAKARTA (Reuters) - Indonesia will buy 11 Sukh...</td>\n",
              "      <td>worldnews</td>\n",
              "      <td>August 22, 2017</td>\n",
              "    </tr>\n",
              "  </tbody>\n",
              "</table>\n",
              "<p>21417 rows × 4 columns</p>\n",
              "</div>"
            ],
            "text/plain": [
              "                                                   title  ...                date\n",
              "0      As U.S. budget fight looms, Republicans flip t...  ...  December 31, 2017 \n",
              "1      U.S. military to accept transgender recruits o...  ...  December 29, 2017 \n",
              "2      Senior U.S. Republican senator: 'Let Mr. Muell...  ...  December 31, 2017 \n",
              "3      FBI Russia probe helped by Australian diplomat...  ...  December 30, 2017 \n",
              "4      Trump wants Postal Service to charge 'much mor...  ...  December 29, 2017 \n",
              "...                                                  ...  ...                 ...\n",
              "21412  'Fully committed' NATO backs new U.S. approach...  ...    August 22, 2017 \n",
              "21413  LexisNexis withdrew two products from Chinese ...  ...    August 22, 2017 \n",
              "21414  Minsk cultural hub becomes haven from authorities  ...    August 22, 2017 \n",
              "21415  Vatican upbeat on possibility of Pope Francis ...  ...    August 22, 2017 \n",
              "21416  Indonesia to buy $1.14 billion worth of Russia...  ...    August 22, 2017 \n",
              "\n",
              "[21417 rows x 4 columns]"
            ]
          },
          "metadata": {
            "tags": []
          },
          "execution_count": 2
        }
      ]
    },
    {
      "cell_type": "markdown",
      "metadata": {
        "id": "vO-GoywkYwby"
      },
      "source": [
        "Ξεχωρίζω τα fake με τα true news και τα ενώνω σε ένα."
      ]
    },
    {
      "cell_type": "code",
      "metadata": {
        "id": "3dnv4Z9Mno-G"
      },
      "source": [
        "def GetData():\n",
        "    df_l = []\n",
        "    \n",
        "    for i in ('Fake.csv','True.csv'):\n",
        "        file = pd.read_csv(f'{i}')\n",
        "        file['label'] = i[0:4]\n",
        "        df_l.append(file)\n",
        "    \n",
        "    file = pd.concat(df_l)\n",
        "    \n",
        "    return file\n",
        "\n",
        "data = GetData()"
      ],
      "execution_count": 19,
      "outputs": []
    },
    {
      "cell_type": "code",
      "metadata": {
        "id": "kklb_0Nnno-G",
        "colab": {
          "base_uri": "https://localhost:8080/",
          "height": 363
        },
        "outputId": "6917ee67-b81a-41d9-f11c-e5267d3b325c"
      },
      "source": [
        "data.head(10)"
      ],
      "execution_count": 20,
      "outputs": [
        {
          "output_type": "execute_result",
          "data": {
            "text/html": [
              "<div>\n",
              "<style scoped>\n",
              "    .dataframe tbody tr th:only-of-type {\n",
              "        vertical-align: middle;\n",
              "    }\n",
              "\n",
              "    .dataframe tbody tr th {\n",
              "        vertical-align: top;\n",
              "    }\n",
              "\n",
              "    .dataframe thead th {\n",
              "        text-align: right;\n",
              "    }\n",
              "</style>\n",
              "<table border=\"1\" class=\"dataframe\">\n",
              "  <thead>\n",
              "    <tr style=\"text-align: right;\">\n",
              "      <th></th>\n",
              "      <th>title</th>\n",
              "      <th>text</th>\n",
              "      <th>subject</th>\n",
              "      <th>date</th>\n",
              "      <th>label</th>\n",
              "    </tr>\n",
              "  </thead>\n",
              "  <tbody>\n",
              "    <tr>\n",
              "      <th>0</th>\n",
              "      <td>Donald Trump Sends Out Embarrassing New Year’...</td>\n",
              "      <td>Donald Trump just couldn t wish all Americans ...</td>\n",
              "      <td>News</td>\n",
              "      <td>December 31, 2017</td>\n",
              "      <td>Fake</td>\n",
              "    </tr>\n",
              "    <tr>\n",
              "      <th>1</th>\n",
              "      <td>Drunk Bragging Trump Staffer Started Russian ...</td>\n",
              "      <td>House Intelligence Committee Chairman Devin Nu...</td>\n",
              "      <td>News</td>\n",
              "      <td>December 31, 2017</td>\n",
              "      <td>Fake</td>\n",
              "    </tr>\n",
              "    <tr>\n",
              "      <th>2</th>\n",
              "      <td>Sheriff David Clarke Becomes An Internet Joke...</td>\n",
              "      <td>On Friday, it was revealed that former Milwauk...</td>\n",
              "      <td>News</td>\n",
              "      <td>December 30, 2017</td>\n",
              "      <td>Fake</td>\n",
              "    </tr>\n",
              "    <tr>\n",
              "      <th>3</th>\n",
              "      <td>Trump Is So Obsessed He Even Has Obama’s Name...</td>\n",
              "      <td>On Christmas day, Donald Trump announced that ...</td>\n",
              "      <td>News</td>\n",
              "      <td>December 29, 2017</td>\n",
              "      <td>Fake</td>\n",
              "    </tr>\n",
              "    <tr>\n",
              "      <th>4</th>\n",
              "      <td>Pope Francis Just Called Out Donald Trump Dur...</td>\n",
              "      <td>Pope Francis used his annual Christmas Day mes...</td>\n",
              "      <td>News</td>\n",
              "      <td>December 25, 2017</td>\n",
              "      <td>Fake</td>\n",
              "    </tr>\n",
              "    <tr>\n",
              "      <th>5</th>\n",
              "      <td>Racist Alabama Cops Brutalize Black Boy While...</td>\n",
              "      <td>The number of cases of cops brutalizing and ki...</td>\n",
              "      <td>News</td>\n",
              "      <td>December 25, 2017</td>\n",
              "      <td>Fake</td>\n",
              "    </tr>\n",
              "    <tr>\n",
              "      <th>6</th>\n",
              "      <td>Fresh Off The Golf Course, Trump Lashes Out A...</td>\n",
              "      <td>Donald Trump spent a good portion of his day a...</td>\n",
              "      <td>News</td>\n",
              "      <td>December 23, 2017</td>\n",
              "      <td>Fake</td>\n",
              "    </tr>\n",
              "    <tr>\n",
              "      <th>7</th>\n",
              "      <td>Trump Said Some INSANELY Racist Stuff Inside ...</td>\n",
              "      <td>In the wake of yet another court decision that...</td>\n",
              "      <td>News</td>\n",
              "      <td>December 23, 2017</td>\n",
              "      <td>Fake</td>\n",
              "    </tr>\n",
              "    <tr>\n",
              "      <th>8</th>\n",
              "      <td>Former CIA Director Slams Trump Over UN Bully...</td>\n",
              "      <td>Many people have raised the alarm regarding th...</td>\n",
              "      <td>News</td>\n",
              "      <td>December 22, 2017</td>\n",
              "      <td>Fake</td>\n",
              "    </tr>\n",
              "    <tr>\n",
              "      <th>9</th>\n",
              "      <td>WATCH: Brand-New Pro-Trump Ad Features So Muc...</td>\n",
              "      <td>Just when you might have thought we d get a br...</td>\n",
              "      <td>News</td>\n",
              "      <td>December 21, 2017</td>\n",
              "      <td>Fake</td>\n",
              "    </tr>\n",
              "  </tbody>\n",
              "</table>\n",
              "</div>"
            ],
            "text/plain": [
              "                                               title  ... label\n",
              "0   Donald Trump Sends Out Embarrassing New Year’...  ...  Fake\n",
              "1   Drunk Bragging Trump Staffer Started Russian ...  ...  Fake\n",
              "2   Sheriff David Clarke Becomes An Internet Joke...  ...  Fake\n",
              "3   Trump Is So Obsessed He Even Has Obama’s Name...  ...  Fake\n",
              "4   Pope Francis Just Called Out Donald Trump Dur...  ...  Fake\n",
              "5   Racist Alabama Cops Brutalize Black Boy While...  ...  Fake\n",
              "6   Fresh Off The Golf Course, Trump Lashes Out A...  ...  Fake\n",
              "7   Trump Said Some INSANELY Racist Stuff Inside ...  ...  Fake\n",
              "8   Former CIA Director Slams Trump Over UN Bully...  ...  Fake\n",
              "9   WATCH: Brand-New Pro-Trump Ad Features So Muc...  ...  Fake\n",
              "\n",
              "[10 rows x 5 columns]"
            ]
          },
          "metadata": {
            "tags": []
          },
          "execution_count": 20
        }
      ]
    },
    {
      "cell_type": "markdown",
      "metadata": {
        "id": "hNe3VHlqno-J"
      },
      "source": [
        "#1: Προεπεξεργασία/Καθάρισμα"
      ]
    },
    {
      "cell_type": "markdown",
      "metadata": {
        "id": "ME1HCB29no-L"
      },
      "source": [
        "Τσεκάρω για '' , ' ' και NULL"
      ]
    },
    {
      "cell_type": "code",
      "metadata": {
        "id": "drIR_HSeno-O",
        "colab": {
          "base_uri": "https://localhost:8080/",
          "height": 597
        },
        "outputId": "0303090c-3ac9-4813-cd2d-0204e7fd43e7"
      },
      "source": [
        "data.isnull().sum()\n",
        "data[data['text'].isin(['', ' '])]\n",
        "data['final_text'] = data['title'] + \" \" + data['text']\n",
        "data"
      ],
      "execution_count": 21,
      "outputs": [
        {
          "output_type": "execute_result",
          "data": {
            "text/html": [
              "<div>\n",
              "<style scoped>\n",
              "    .dataframe tbody tr th:only-of-type {\n",
              "        vertical-align: middle;\n",
              "    }\n",
              "\n",
              "    .dataframe tbody tr th {\n",
              "        vertical-align: top;\n",
              "    }\n",
              "\n",
              "    .dataframe thead th {\n",
              "        text-align: right;\n",
              "    }\n",
              "</style>\n",
              "<table border=\"1\" class=\"dataframe\">\n",
              "  <thead>\n",
              "    <tr style=\"text-align: right;\">\n",
              "      <th></th>\n",
              "      <th>title</th>\n",
              "      <th>text</th>\n",
              "      <th>subject</th>\n",
              "      <th>date</th>\n",
              "      <th>label</th>\n",
              "      <th>final_text</th>\n",
              "    </tr>\n",
              "  </thead>\n",
              "  <tbody>\n",
              "    <tr>\n",
              "      <th>0</th>\n",
              "      <td>Donald Trump Sends Out Embarrassing New Year’...</td>\n",
              "      <td>Donald Trump just couldn t wish all Americans ...</td>\n",
              "      <td>News</td>\n",
              "      <td>December 31, 2017</td>\n",
              "      <td>Fake</td>\n",
              "      <td>Donald Trump Sends Out Embarrassing New Year’...</td>\n",
              "    </tr>\n",
              "    <tr>\n",
              "      <th>1</th>\n",
              "      <td>Drunk Bragging Trump Staffer Started Russian ...</td>\n",
              "      <td>House Intelligence Committee Chairman Devin Nu...</td>\n",
              "      <td>News</td>\n",
              "      <td>December 31, 2017</td>\n",
              "      <td>Fake</td>\n",
              "      <td>Drunk Bragging Trump Staffer Started Russian ...</td>\n",
              "    </tr>\n",
              "    <tr>\n",
              "      <th>2</th>\n",
              "      <td>Sheriff David Clarke Becomes An Internet Joke...</td>\n",
              "      <td>On Friday, it was revealed that former Milwauk...</td>\n",
              "      <td>News</td>\n",
              "      <td>December 30, 2017</td>\n",
              "      <td>Fake</td>\n",
              "      <td>Sheriff David Clarke Becomes An Internet Joke...</td>\n",
              "    </tr>\n",
              "    <tr>\n",
              "      <th>3</th>\n",
              "      <td>Trump Is So Obsessed He Even Has Obama’s Name...</td>\n",
              "      <td>On Christmas day, Donald Trump announced that ...</td>\n",
              "      <td>News</td>\n",
              "      <td>December 29, 2017</td>\n",
              "      <td>Fake</td>\n",
              "      <td>Trump Is So Obsessed He Even Has Obama’s Name...</td>\n",
              "    </tr>\n",
              "    <tr>\n",
              "      <th>4</th>\n",
              "      <td>Pope Francis Just Called Out Donald Trump Dur...</td>\n",
              "      <td>Pope Francis used his annual Christmas Day mes...</td>\n",
              "      <td>News</td>\n",
              "      <td>December 25, 2017</td>\n",
              "      <td>Fake</td>\n",
              "      <td>Pope Francis Just Called Out Donald Trump Dur...</td>\n",
              "    </tr>\n",
              "    <tr>\n",
              "      <th>...</th>\n",
              "      <td>...</td>\n",
              "      <td>...</td>\n",
              "      <td>...</td>\n",
              "      <td>...</td>\n",
              "      <td>...</td>\n",
              "      <td>...</td>\n",
              "    </tr>\n",
              "    <tr>\n",
              "      <th>21412</th>\n",
              "      <td>'Fully committed' NATO backs new U.S. approach...</td>\n",
              "      <td>BRUSSELS (Reuters) - NATO allies on Tuesday we...</td>\n",
              "      <td>worldnews</td>\n",
              "      <td>August 22, 2017</td>\n",
              "      <td>True</td>\n",
              "      <td>'Fully committed' NATO backs new U.S. approach...</td>\n",
              "    </tr>\n",
              "    <tr>\n",
              "      <th>21413</th>\n",
              "      <td>LexisNexis withdrew two products from Chinese ...</td>\n",
              "      <td>LONDON (Reuters) - LexisNexis, a provider of l...</td>\n",
              "      <td>worldnews</td>\n",
              "      <td>August 22, 2017</td>\n",
              "      <td>True</td>\n",
              "      <td>LexisNexis withdrew two products from Chinese ...</td>\n",
              "    </tr>\n",
              "    <tr>\n",
              "      <th>21414</th>\n",
              "      <td>Minsk cultural hub becomes haven from authorities</td>\n",
              "      <td>MINSK (Reuters) - In the shadow of disused Sov...</td>\n",
              "      <td>worldnews</td>\n",
              "      <td>August 22, 2017</td>\n",
              "      <td>True</td>\n",
              "      <td>Minsk cultural hub becomes haven from authorit...</td>\n",
              "    </tr>\n",
              "    <tr>\n",
              "      <th>21415</th>\n",
              "      <td>Vatican upbeat on possibility of Pope Francis ...</td>\n",
              "      <td>MOSCOW (Reuters) - Vatican Secretary of State ...</td>\n",
              "      <td>worldnews</td>\n",
              "      <td>August 22, 2017</td>\n",
              "      <td>True</td>\n",
              "      <td>Vatican upbeat on possibility of Pope Francis ...</td>\n",
              "    </tr>\n",
              "    <tr>\n",
              "      <th>21416</th>\n",
              "      <td>Indonesia to buy $1.14 billion worth of Russia...</td>\n",
              "      <td>JAKARTA (Reuters) - Indonesia will buy 11 Sukh...</td>\n",
              "      <td>worldnews</td>\n",
              "      <td>August 22, 2017</td>\n",
              "      <td>True</td>\n",
              "      <td>Indonesia to buy $1.14 billion worth of Russia...</td>\n",
              "    </tr>\n",
              "  </tbody>\n",
              "</table>\n",
              "<p>44898 rows × 6 columns</p>\n",
              "</div>"
            ],
            "text/plain": [
              "                                                   title  ...                                         final_text\n",
              "0       Donald Trump Sends Out Embarrassing New Year’...  ...   Donald Trump Sends Out Embarrassing New Year’...\n",
              "1       Drunk Bragging Trump Staffer Started Russian ...  ...   Drunk Bragging Trump Staffer Started Russian ...\n",
              "2       Sheriff David Clarke Becomes An Internet Joke...  ...   Sheriff David Clarke Becomes An Internet Joke...\n",
              "3       Trump Is So Obsessed He Even Has Obama’s Name...  ...   Trump Is So Obsessed He Even Has Obama’s Name...\n",
              "4       Pope Francis Just Called Out Donald Trump Dur...  ...   Pope Francis Just Called Out Donald Trump Dur...\n",
              "...                                                  ...  ...                                                ...\n",
              "21412  'Fully committed' NATO backs new U.S. approach...  ...  'Fully committed' NATO backs new U.S. approach...\n",
              "21413  LexisNexis withdrew two products from Chinese ...  ...  LexisNexis withdrew two products from Chinese ...\n",
              "21414  Minsk cultural hub becomes haven from authorities  ...  Minsk cultural hub becomes haven from authorit...\n",
              "21415  Vatican upbeat on possibility of Pope Francis ...  ...  Vatican upbeat on possibility of Pope Francis ...\n",
              "21416  Indonesia to buy $1.14 billion worth of Russia...  ...  Indonesia to buy $1.14 billion worth of Russia...\n",
              "\n",
              "[44898 rows x 6 columns]"
            ]
          },
          "metadata": {
            "tags": []
          },
          "execution_count": 21
        }
      ]
    },
    {
      "cell_type": "markdown",
      "metadata": {
        "id": "jVy4PIVjOmvu"
      },
      "source": [
        "#2: Μελέτη των δεδομένων"
      ]
    },
    {
      "cell_type": "code",
      "metadata": {
        "id": "UVV2HU12no-R"
      },
      "source": [
        "# Calculate the number of words in a string\n",
        "\n",
        "def Words(string):\n",
        "    if len(string) == 0:\n",
        "        return 0\n",
        "    \n",
        "    return string.count(' ') + 1\n",
        "\n",
        "\n",
        "# Calculate total number of unique words\n",
        "def UniqueWords(string):\n",
        "    a = {}\n",
        "    for j in string.lower().split(' '):\n",
        "        if j not in a:\n",
        "            a[j] = 1\n",
        "    return len(a)\n",
        "\n",
        "\n",
        "# Calculate the average word length of a given string\n",
        "def AvgLength(string):\n",
        "    if len(string) == 0:\n",
        "        return 0\n",
        "    \n",
        "    tot_length = Words(string)\n",
        "    letters = len(string) - tot_length + 1\n",
        "    \n",
        "    return letters/tot_length\n",
        "\n",
        "\n",
        "# Calcualte number of uppercase words in a string\n",
        "def UpperCaseWords(string):\n",
        "    words = string.split()   \n",
        "    return len([word for word in words if word.isupper()])\n",
        "\n",
        "\n",
        "# Calculate total number of punctuation characters used\n",
        "punctuationSet = set(punctuation)\n",
        "def Punctuations(string):\n",
        "    return sum([1 for s in string if s in punctuationSet])"
      ],
      "execution_count": 32,
      "outputs": []
    },
    {
      "cell_type": "markdown",
      "metadata": {
        "id": "jjjrIycvno-S"
      },
      "source": [
        "Αφαιρώ url και stopwords από το αρχείο"
      ]
    },
    {
      "cell_type": "code",
      "metadata": {
        "id": "AjIfSl72no-S",
        "colab": {
          "base_uri": "https://localhost:8080/"
        },
        "outputId": "8ea9b14b-ff5a-4c1a-e699-07ad432a208b"
      },
      "source": [
        "nltk.download('stopwords')\n",
        "# Remove urls from text    \n",
        "def RemoveUrls(string):\n",
        "    return re.sub('https\\S+','', string)\n",
        "\n",
        "# Removing stopwords .\n",
        "stop_words = set(nltk.corpus.stopwords.words('english'))\n",
        "stop_words.update(punctuationSet)\n",
        "\n",
        "# This tokenizer allows us to only extract words from a given string and ignore any punctuation used\n",
        "tokenizer_for_words = nltk.tokenize.RegexpTokenizer(r'\\w+')\n",
        "\n",
        "def RemoveStopWordsAndPunctuation(string):\n",
        "    output = []\n",
        "    words = tokenizer_for_words.tokenize(string)\n",
        "    for word in words:\n",
        "        if word.strip().lower() not in stop_words and len(word) > 1:\n",
        "            output.append(word)\n",
        "    \n",
        "    return ' '.join(output)"
      ],
      "execution_count": 23,
      "outputs": [
        {
          "output_type": "stream",
          "text": [
            "[nltk_data] Downloading package stopwords to /root/nltk_data...\n",
            "[nltk_data]   Package stopwords is already up-to-date!\n"
          ],
          "name": "stdout"
        }
      ]
    },
    {
      "cell_type": "markdown",
      "metadata": {
        "id": "85uxJYP6no-T"
      },
      "source": [
        "Βρίσκω πόσα είναι"
      ]
    },
    {
      "cell_type": "code",
      "metadata": {
        "id": "ucbriG3xno-T"
      },
      "source": [
        "data['number_of_punctuations'] = data['final_text'].apply(Punctuations)\n",
        "\n",
        "# Remove stop words and punctuation before other functions\n",
        "data['final_text'] = data['final_text'].apply(RemoveUrls)\n",
        "data['final_text'] = data['final_text'].apply(RemoveStopWordsAndPunctuation)"
      ],
      "execution_count": 27,
      "outputs": []
    },
    {
      "cell_type": "code",
      "metadata": {
        "id": "cgNoKSanno-U"
      },
      "source": [
        "# Gather additional data from text\n",
        "data['number_of_words'] = data['final_text'].apply(Words)\n",
        "data['avg_number_of_words'] = data['final_text'].apply(AvgLength)\n",
        "data['number_of_unique_words'] = data['final_text'].apply(UniqueWords)\n",
        "data['number_of_uppercase_words'] = data['final_text'].apply(UpperCaseWords)\n",
        "data['number_of_lowercase_words'] = data['number_of_words'] - data['number_of_uppercase_words']\n",
        "# Make final_text all lower case\n",
        "data['final_text'] = data['final_text'].str.lower()"
      ],
      "execution_count": 35,
      "outputs": []
    },
    {
      "cell_type": "code",
      "metadata": {
        "id": "mRsBrDiHno-W",
        "colab": {
          "base_uri": "https://localhost:8080/",
          "height": 660
        },
        "outputId": "584d640a-34a1-41ce-c1b7-734fe6d3cb61"
      },
      "source": [
        "print(\"Deploying some stats\")\n",
        "data.head(5)"
      ],
      "execution_count": 36,
      "outputs": [
        {
          "output_type": "stream",
          "text": [
            "Deploying some stats\n"
          ],
          "name": "stdout"
        },
        {
          "output_type": "execute_result",
          "data": {
            "text/html": [
              "<div>\n",
              "<style scoped>\n",
              "    .dataframe tbody tr th:only-of-type {\n",
              "        vertical-align: middle;\n",
              "    }\n",
              "\n",
              "    .dataframe tbody tr th {\n",
              "        vertical-align: top;\n",
              "    }\n",
              "\n",
              "    .dataframe thead th {\n",
              "        text-align: right;\n",
              "    }\n",
              "</style>\n",
              "<table border=\"1\" class=\"dataframe\">\n",
              "  <thead>\n",
              "    <tr style=\"text-align: right;\">\n",
              "      <th></th>\n",
              "      <th>title</th>\n",
              "      <th>text</th>\n",
              "      <th>subject</th>\n",
              "      <th>date</th>\n",
              "      <th>label</th>\n",
              "      <th>final_text</th>\n",
              "      <th>number_of_punctuations</th>\n",
              "      <th>number_of_words</th>\n",
              "      <th>avg_number_of_words</th>\n",
              "      <th>number_of_unique_words</th>\n",
              "      <th>number_of_uppercase_words</th>\n",
              "      <th>number_of_lowercase_words</th>\n",
              "    </tr>\n",
              "  </thead>\n",
              "  <tbody>\n",
              "    <tr>\n",
              "      <th>0</th>\n",
              "      <td>Donald Trump Sends Out Embarrassing New Year’...</td>\n",
              "      <td>Donald Trump just couldn t wish all Americans ...</td>\n",
              "      <td>News</td>\n",
              "      <td>December 31, 2017</td>\n",
              "      <td>Fake</td>\n",
              "      <td>donald trump sends embarrassing new year eve m...</td>\n",
              "      <td>0</td>\n",
              "      <td>302</td>\n",
              "      <td>5.798013</td>\n",
              "      <td>178</td>\n",
              "      <td>0</td>\n",
              "      <td>302</td>\n",
              "    </tr>\n",
              "    <tr>\n",
              "      <th>1</th>\n",
              "      <td>Drunk Bragging Trump Staffer Started Russian ...</td>\n",
              "      <td>House Intelligence Committee Chairman Devin Nu...</td>\n",
              "      <td>News</td>\n",
              "      <td>December 31, 2017</td>\n",
              "      <td>Fake</td>\n",
              "      <td>drunk bragging trump staffer started russian c...</td>\n",
              "      <td>0</td>\n",
              "      <td>191</td>\n",
              "      <td>6.575916</td>\n",
              "      <td>145</td>\n",
              "      <td>0</td>\n",
              "      <td>191</td>\n",
              "    </tr>\n",
              "    <tr>\n",
              "      <th>2</th>\n",
              "      <td>Sheriff David Clarke Becomes An Internet Joke...</td>\n",
              "      <td>On Friday, it was revealed that former Milwauk...</td>\n",
              "      <td>News</td>\n",
              "      <td>December 30, 2017</td>\n",
              "      <td>Fake</td>\n",
              "      <td>sheriff david clarke becomes internet joke thr...</td>\n",
              "      <td>2</td>\n",
              "      <td>369</td>\n",
              "      <td>5.997290</td>\n",
              "      <td>237</td>\n",
              "      <td>0</td>\n",
              "      <td>369</td>\n",
              "    </tr>\n",
              "    <tr>\n",
              "      <th>3</th>\n",
              "      <td>Trump Is So Obsessed He Even Has Obama’s Name...</td>\n",
              "      <td>On Christmas day, Donald Trump announced that ...</td>\n",
              "      <td>News</td>\n",
              "      <td>December 29, 2017</td>\n",
              "      <td>Fake</td>\n",
              "      <td>trump obsessed even obama name coded website i...</td>\n",
              "      <td>5</td>\n",
              "      <td>285</td>\n",
              "      <td>5.887719</td>\n",
              "      <td>187</td>\n",
              "      <td>0</td>\n",
              "      <td>285</td>\n",
              "    </tr>\n",
              "    <tr>\n",
              "      <th>4</th>\n",
              "      <td>Pope Francis Just Called Out Donald Trump Dur...</td>\n",
              "      <td>Pope Francis used his annual Christmas Day mes...</td>\n",
              "      <td>News</td>\n",
              "      <td>December 25, 2017</td>\n",
              "      <td>Fake</td>\n",
              "      <td>pope francis called donald trump christmas spe...</td>\n",
              "      <td>0</td>\n",
              "      <td>219</td>\n",
              "      <td>5.922374</td>\n",
              "      <td>164</td>\n",
              "      <td>0</td>\n",
              "      <td>219</td>\n",
              "    </tr>\n",
              "  </tbody>\n",
              "</table>\n",
              "</div>"
            ],
            "text/plain": [
              "                                               title  ... number_of_lowercase_words\n",
              "0   Donald Trump Sends Out Embarrassing New Year’...  ...                       302\n",
              "1   Drunk Bragging Trump Staffer Started Russian ...  ...                       191\n",
              "2   Sheriff David Clarke Becomes An Internet Joke...  ...                       369\n",
              "3   Trump Is So Obsessed He Even Has Obama’s Name...  ...                       285\n",
              "4   Pope Francis Just Called Out Donald Trump Dur...  ...                       219\n",
              "\n",
              "[5 rows x 12 columns]"
            ]
          },
          "metadata": {
            "tags": []
          },
          "execution_count": 36
        }
      ]
    },
    {
      "cell_type": "code",
      "metadata": {
        "id": "x6pmd52qno-W",
        "colab": {
          "base_uri": "https://localhost:8080/",
          "height": 300
        },
        "outputId": "779befcb-c377-459b-aa5c-fdc6976cc69a"
      },
      "source": [
        "stats = data.describe().round(1)\n",
        "stats"
      ],
      "execution_count": 37,
      "outputs": [
        {
          "output_type": "execute_result",
          "data": {
            "text/html": [
              "<div>\n",
              "<style scoped>\n",
              "    .dataframe tbody tr th:only-of-type {\n",
              "        vertical-align: middle;\n",
              "    }\n",
              "\n",
              "    .dataframe tbody tr th {\n",
              "        vertical-align: top;\n",
              "    }\n",
              "\n",
              "    .dataframe thead th {\n",
              "        text-align: right;\n",
              "    }\n",
              "</style>\n",
              "<table border=\"1\" class=\"dataframe\">\n",
              "  <thead>\n",
              "    <tr style=\"text-align: right;\">\n",
              "      <th></th>\n",
              "      <th>number_of_punctuations</th>\n",
              "      <th>number_of_words</th>\n",
              "      <th>avg_number_of_words</th>\n",
              "      <th>number_of_unique_words</th>\n",
              "      <th>number_of_uppercase_words</th>\n",
              "      <th>number_of_lowercase_words</th>\n",
              "    </tr>\n",
              "  </thead>\n",
              "  <tbody>\n",
              "    <tr>\n",
              "      <th>count</th>\n",
              "      <td>44898.0</td>\n",
              "      <td>44898.0</td>\n",
              "      <td>44898.0</td>\n",
              "      <td>44898.0</td>\n",
              "      <td>44898.0</td>\n",
              "      <td>44898.0</td>\n",
              "    </tr>\n",
              "    <tr>\n",
              "      <th>mean</th>\n",
              "      <td>0.1</td>\n",
              "      <td>245.6</td>\n",
              "      <td>6.3</td>\n",
              "      <td>168.1</td>\n",
              "      <td>0.0</td>\n",
              "      <td>245.6</td>\n",
              "    </tr>\n",
              "    <tr>\n",
              "      <th>std</th>\n",
              "      <td>1.1</td>\n",
              "      <td>207.2</td>\n",
              "      <td>0.4</td>\n",
              "      <td>118.7</td>\n",
              "      <td>0.0</td>\n",
              "      <td>207.2</td>\n",
              "    </tr>\n",
              "    <tr>\n",
              "      <th>min</th>\n",
              "      <td>0.0</td>\n",
              "      <td>0.0</td>\n",
              "      <td>0.0</td>\n",
              "      <td>1.0</td>\n",
              "      <td>0.0</td>\n",
              "      <td>0.0</td>\n",
              "    </tr>\n",
              "    <tr>\n",
              "      <th>25%</th>\n",
              "      <td>0.0</td>\n",
              "      <td>130.0</td>\n",
              "      <td>6.1</td>\n",
              "      <td>96.0</td>\n",
              "      <td>0.0</td>\n",
              "      <td>130.0</td>\n",
              "    </tr>\n",
              "    <tr>\n",
              "      <th>50%</th>\n",
              "      <td>0.0</td>\n",
              "      <td>218.0</td>\n",
              "      <td>6.3</td>\n",
              "      <td>156.0</td>\n",
              "      <td>0.0</td>\n",
              "      <td>218.0</td>\n",
              "    </tr>\n",
              "    <tr>\n",
              "      <th>75%</th>\n",
              "      <td>0.0</td>\n",
              "      <td>306.0</td>\n",
              "      <td>6.6</td>\n",
              "      <td>212.0</td>\n",
              "      <td>0.0</td>\n",
              "      <td>306.0</td>\n",
              "    </tr>\n",
              "    <tr>\n",
              "      <th>max</th>\n",
              "      <td>85.0</td>\n",
              "      <td>5066.0</td>\n",
              "      <td>18.7</td>\n",
              "      <td>2335.0</td>\n",
              "      <td>0.0</td>\n",
              "      <td>5066.0</td>\n",
              "    </tr>\n",
              "  </tbody>\n",
              "</table>\n",
              "</div>"
            ],
            "text/plain": [
              "       number_of_punctuations  ...  number_of_lowercase_words\n",
              "count                 44898.0  ...                    44898.0\n",
              "mean                      0.1  ...                      245.6\n",
              "std                       1.1  ...                      207.2\n",
              "min                       0.0  ...                        0.0\n",
              "25%                       0.0  ...                      130.0\n",
              "50%                       0.0  ...                      218.0\n",
              "75%                       0.0  ...                      306.0\n",
              "max                      85.0  ...                     5066.0\n",
              "\n",
              "[8 rows x 6 columns]"
            ]
          },
          "metadata": {
            "tags": []
          },
          "execution_count": 37
        }
      ]
    },
    {
      "cell_type": "markdown",
      "metadata": {
        "id": "MXbnmrv_no-X"
      },
      "source": [
        "Aφαιρώ τα datapoint χωρίς καμία λέξη"
      ]
    },
    {
      "cell_type": "code",
      "metadata": {
        "id": "SCCUOPtdno-Z",
        "colab": {
          "base_uri": "https://localhost:8080/",
          "height": 300
        },
        "outputId": "0a419c07-4fd0-40fd-a9ae-21ef74c4c7ce"
      },
      "source": [
        "data = data[data['number_of_words'] > 0]\n",
        "data_desc = data.describe().round(1)\n",
        "data_desc"
      ],
      "execution_count": 38,
      "outputs": [
        {
          "output_type": "execute_result",
          "data": {
            "text/html": [
              "<div>\n",
              "<style scoped>\n",
              "    .dataframe tbody tr th:only-of-type {\n",
              "        vertical-align: middle;\n",
              "    }\n",
              "\n",
              "    .dataframe tbody tr th {\n",
              "        vertical-align: top;\n",
              "    }\n",
              "\n",
              "    .dataframe thead th {\n",
              "        text-align: right;\n",
              "    }\n",
              "</style>\n",
              "<table border=\"1\" class=\"dataframe\">\n",
              "  <thead>\n",
              "    <tr style=\"text-align: right;\">\n",
              "      <th></th>\n",
              "      <th>number_of_punctuations</th>\n",
              "      <th>number_of_words</th>\n",
              "      <th>avg_number_of_words</th>\n",
              "      <th>number_of_unique_words</th>\n",
              "      <th>number_of_uppercase_words</th>\n",
              "      <th>number_of_lowercase_words</th>\n",
              "    </tr>\n",
              "  </thead>\n",
              "  <tbody>\n",
              "    <tr>\n",
              "      <th>count</th>\n",
              "      <td>44889.0</td>\n",
              "      <td>44889.0</td>\n",
              "      <td>44889.0</td>\n",
              "      <td>44889.0</td>\n",
              "      <td>44889.0</td>\n",
              "      <td>44889.0</td>\n",
              "    </tr>\n",
              "    <tr>\n",
              "      <th>mean</th>\n",
              "      <td>0.1</td>\n",
              "      <td>245.6</td>\n",
              "      <td>6.3</td>\n",
              "      <td>168.1</td>\n",
              "      <td>0.0</td>\n",
              "      <td>245.6</td>\n",
              "    </tr>\n",
              "    <tr>\n",
              "      <th>std</th>\n",
              "      <td>1.1</td>\n",
              "      <td>207.2</td>\n",
              "      <td>0.4</td>\n",
              "      <td>118.7</td>\n",
              "      <td>0.0</td>\n",
              "      <td>207.2</td>\n",
              "    </tr>\n",
              "    <tr>\n",
              "      <th>min</th>\n",
              "      <td>0.0</td>\n",
              "      <td>4.0</td>\n",
              "      <td>4.3</td>\n",
              "      <td>4.0</td>\n",
              "      <td>0.0</td>\n",
              "      <td>4.0</td>\n",
              "    </tr>\n",
              "    <tr>\n",
              "      <th>25%</th>\n",
              "      <td>0.0</td>\n",
              "      <td>130.0</td>\n",
              "      <td>6.1</td>\n",
              "      <td>96.0</td>\n",
              "      <td>0.0</td>\n",
              "      <td>130.0</td>\n",
              "    </tr>\n",
              "    <tr>\n",
              "      <th>50%</th>\n",
              "      <td>0.0</td>\n",
              "      <td>218.0</td>\n",
              "      <td>6.3</td>\n",
              "      <td>156.0</td>\n",
              "      <td>0.0</td>\n",
              "      <td>218.0</td>\n",
              "    </tr>\n",
              "    <tr>\n",
              "      <th>75%</th>\n",
              "      <td>0.0</td>\n",
              "      <td>306.0</td>\n",
              "      <td>6.6</td>\n",
              "      <td>212.0</td>\n",
              "      <td>0.0</td>\n",
              "      <td>306.0</td>\n",
              "    </tr>\n",
              "    <tr>\n",
              "      <th>max</th>\n",
              "      <td>85.0</td>\n",
              "      <td>5066.0</td>\n",
              "      <td>18.7</td>\n",
              "      <td>2335.0</td>\n",
              "      <td>0.0</td>\n",
              "      <td>5066.0</td>\n",
              "    </tr>\n",
              "  </tbody>\n",
              "</table>\n",
              "</div>"
            ],
            "text/plain": [
              "       number_of_punctuations  ...  number_of_lowercase_words\n",
              "count                 44889.0  ...                    44889.0\n",
              "mean                      0.1  ...                      245.6\n",
              "std                       1.1  ...                      207.2\n",
              "min                       0.0  ...                        4.0\n",
              "25%                       0.0  ...                      130.0\n",
              "50%                       0.0  ...                      218.0\n",
              "75%                       0.0  ...                      306.0\n",
              "max                      85.0  ...                     5066.0\n",
              "\n",
              "[8 rows x 6 columns]"
            ]
          },
          "metadata": {
            "tags": []
          },
          "execution_count": 38
        }
      ]
    },
    {
      "cell_type": "markdown",
      "metadata": {
        "id": "iH6e3g0Dno-Z"
      },
      "source": [
        "Θα χρησιμοποιήσω ένα subset των δεδομένων με 2000 λέξεις,για να κάνω καλύτερο πλοτ"
      ]
    },
    {
      "cell_type": "code",
      "metadata": {
        "id": "XOhkd6nSno-a",
        "colab": {
          "base_uri": "https://localhost:8080/",
          "height": 399
        },
        "outputId": "e8af6e2a-97a7-42ae-b318-ea3d2280b1e9"
      },
      "source": [
        "subset = data[data['number_of_words'] <= 2000]\n",
        "\n",
        "import seaborn as sns\n",
        "\n",
        "sns.catplot(x = 'label', hue = 'subject', kind = 'count', data = data)\n",
        "plt.title('Number of news articles by subject ')\n",
        "plt.ylabel('Sum')\n",
        "plt.xlabel('News')\n",
        "plt.show()"
      ],
      "execution_count": 39,
      "outputs": [
        {
          "output_type": "display_data",
          "data": {
            "image/png": "[encoded data removed]",
            "text/plain": [
              "<Figure size 488.25x360 with 1 Axes>"
            ]
          },
          "metadata": {
            "tags": [],
            "needs_background": "light"
          }
        }
      ]
    },
    {
      "cell_type": "markdown",
      "metadata": {
        "id": "Pp3YV1E9no-b"
      },
      "source": [
        "Το subject δε μας βοηθάει στο διαχωρισμό fake με true news.\n",
        "Θα Αφαιρεθεί"
      ]
    },
    {
      "cell_type": "code",
      "metadata": {
        "id": "EhoTIdu-no-b",
        "colab": {
          "base_uri": "https://localhost:8080/",
          "height": 1000
        },
        "outputId": "aea1800e-a102-4a15-eb22-82712a9b2eac"
      },
      "source": [
        "cols = ['number_of_words','number_of_unique_words','avg_number_of_words','number_of_uppercase_words','number_of_lowercase_words','number_of_punctuations']\n",
        "\n",
        "def DistributionPlot(column):\n",
        "\n",
        "    x1 = subset[subset['label'] == 'True'][column]\n",
        "    x2 = subset[subset['label'] == 'Fake'][column]\n",
        "    \n",
        "    header = ' '.join(column.split('_')).capitalize() + ' in text'\n",
        "    \n",
        "    fig, (ax1,ax2) = plt.subplots(1, 2, figsize = (7,7))\n",
        "    sns.distplot(x1 , color = \"blue\", ax = ax1, axlabel = '')\n",
        "\n",
        "    ax1.set_title('True')\n",
        "    sns.distplot(x2 , color = \"green\", ax = ax2, axlabel = '')\n",
        "\n",
        "    ax2.set_title('Fake')\n",
        "    fig.suptitle(header)\n",
        "    plt.show()\n",
        "\n",
        "DistributionPlot('number_of_words')\n",
        "DistributionPlot('number_of_unique_words')\n",
        "DistributionPlot('avg_number_of_words')\n",
        "DistributionPlot('number_of_uppercase_words')\n",
        "DistributionPlot('number_of_lowercase_words')\n",
        "DistributionPlot('number_of_punctuations')"
      ],
      "execution_count": 40,
      "outputs": [
        {
          "output_type": "stream",
          "text": [
            "/usr/local/lib/python3.7/dist-packages/seaborn/distributions.py:2557: FutureWarning: `distplot` is a deprecated function and will be removed in a future version. Please adapt your code to use either `displot` (a figure-level function with similar flexibility) or `histplot` (an axes-level function for histograms).\n",
            "  warnings.warn(msg, FutureWarning)\n",
            "/usr/local/lib/python3.7/dist-packages/seaborn/distributions.py:2557: FutureWarning: `distplot` is a deprecated function and will be removed in a future version. Please adapt your code to use either `displot` (a figure-level function with similar flexibility) or `histplot` (an axes-level function for histograms).\n",
            "  warnings.warn(msg, FutureWarning)\n"
          ],
          "name": "stderr"
        },
        {
          "output_type": "display_data",
          "data": {
            "image/png": "[encoded data removed]",
            "text/plain": [
              "<Figure size 504x504 with 2 Axes>"
            ]
          },
          "metadata": {
            "tags": [],
            "needs_background": "light"
          }
        },
        {
          "output_type": "stream",
          "text": [
            "/usr/local/lib/python3.7/dist-packages/seaborn/distributions.py:2557: FutureWarning: `distplot` is a deprecated function and will be removed in a future version. Please adapt your code to use either `displot` (a figure-level function with similar flexibility) or `histplot` (an axes-level function for histograms).\n",
            "  warnings.warn(msg, FutureWarning)\n",
            "/usr/local/lib/python3.7/dist-packages/seaborn/distributions.py:2557: FutureWarning: `distplot` is a deprecated function and will be removed in a future version. Please adapt your code to use either `displot` (a figure-level function with similar flexibility) or `histplot` (an axes-level function for histograms).\n",
            "  warnings.warn(msg, FutureWarning)\n"
          ],
          "name": "stderr"
        },
        {
          "output_type": "display_data",
          "data": {
            "image/png": "[encoded data removed]",
            "text/plain": [
              "<Figure size 504x504 with 2 Axes>"
            ]
          },
          "metadata": {
            "tags": [],
            "needs_background": "light"
          }
        },
        {
          "output_type": "stream",
          "text": [
            "/usr/local/lib/python3.7/dist-packages/seaborn/distributions.py:2557: FutureWarning: `distplot` is a deprecated function and will be removed in a future version. Please adapt your code to use either `displot` (a figure-level function with similar flexibility) or `histplot` (an axes-level function for histograms).\n",
            "  warnings.warn(msg, FutureWarning)\n",
            "/usr/local/lib/python3.7/dist-packages/seaborn/distributions.py:2557: FutureWarning: `distplot` is a deprecated function and will be removed in a future version. Please adapt your code to use either `displot` (a figure-level function with similar flexibility) or `histplot` (an axes-level function for histograms).\n",
            "  warnings.warn(msg, FutureWarning)\n"
          ],
          "name": "stderr"
        },
        {
          "output_type": "display_data",
          "data": {
            "image/png": "[encoded data removed]",
            "text/plain": [
              "<Figure size 504x504 with 2 Axes>"
            ]
          },
          "metadata": {
            "tags": [],
            "needs_background": "light"
          }
        },
        {
          "output_type": "stream",
          "text": [
            "/usr/local/lib/python3.7/dist-packages/seaborn/distributions.py:2557: FutureWarning: `distplot` is a deprecated function and will be removed in a future version. Please adapt your code to use either `displot` (a figure-level function with similar flexibility) or `histplot` (an axes-level function for histograms).\n",
            "  warnings.warn(msg, FutureWarning)\n",
            "/usr/local/lib/python3.7/dist-packages/seaborn/distributions.py:306: UserWarning: Dataset has 0 variance; skipping density estimate.\n",
            "  warnings.warn(msg, UserWarning)\n",
            "/usr/local/lib/python3.7/dist-packages/seaborn/distributions.py:2557: FutureWarning: `distplot` is a deprecated function and will be removed in a future version. Please adapt your code to use either `displot` (a figure-level function with similar flexibility) or `histplot` (an axes-level function for histograms).\n",
            "  warnings.warn(msg, FutureWarning)\n",
            "/usr/local/lib/python3.7/dist-packages/seaborn/distributions.py:306: UserWarning: Dataset has 0 variance; skipping density estimate.\n",
            "  warnings.warn(msg, UserWarning)\n"
          ],
          "name": "stderr"
        },
        {
          "output_type": "display_data",
          "data": {
            "image/png": "[encoded data removed]",
            "text/plain": [
              "<Figure size 504x504 with 2 Axes>"
            ]
          },
          "metadata": {
            "tags": [],
            "needs_background": "light"
          }
        },
        {
          "output_type": "stream",
          "text": [
            "/usr/local/lib/python3.7/dist-packages/seaborn/distributions.py:2557: FutureWarning: `distplot` is a deprecated function and will be removed in a future version. Please adapt your code to use either `displot` (a figure-level function with similar flexibility) or `histplot` (an axes-level function for histograms).\n",
            "  warnings.warn(msg, FutureWarning)\n",
            "/usr/local/lib/python3.7/dist-packages/seaborn/distributions.py:2557: FutureWarning: `distplot` is a deprecated function and will be removed in a future version. Please adapt your code to use either `displot` (a figure-level function with similar flexibility) or `histplot` (an axes-level function for histograms).\n",
            "  warnings.warn(msg, FutureWarning)\n"
          ],
          "name": "stderr"
        },
        {
          "output_type": "display_data",
          "data": {
            "image/png": "[encoded data removed]",
            "text/plain": [
              "<Figure size 504x504 with 2 Axes>"
            ]
          },
          "metadata": {
            "tags": [],
            "needs_background": "light"
          }
        },
        {
          "output_type": "stream",
          "text": [
            "/usr/local/lib/python3.7/dist-packages/seaborn/distributions.py:2557: FutureWarning: `distplot` is a deprecated function and will be removed in a future version. Please adapt your code to use either `displot` (a figure-level function with similar flexibility) or `histplot` (an axes-level function for histograms).\n",
            "  warnings.warn(msg, FutureWarning)\n",
            "/usr/local/lib/python3.7/dist-packages/seaborn/distributions.py:2557: FutureWarning: `distplot` is a deprecated function and will be removed in a future version. Please adapt your code to use either `displot` (a figure-level function with similar flexibility) or `histplot` (an axes-level function for histograms).\n",
            "  warnings.warn(msg, FutureWarning)\n"
          ],
          "name": "stderr"
        },
        {
          "output_type": "display_data",
          "data": {
            "image/png": "[encoded data removed]",
            "text/plain": [
              "<Figure size 504x504 with 2 Axes>"
            ]
          },
          "metadata": {
            "tags": [],
            "needs_background": "light"
          }
        }
      ]
    },
    {
      "cell_type": "markdown",
      "metadata": {
        "id": "eB-GE7gCno-f"
      },
      "source": [
        "Παρατηρώ ότι τα fake news χρησιμοποιούνε πιο πολλά κεφαλαία, πιο πολλά σημεία στίξης,αλλά λιγότερες διαφορετικές λέξεις σε σχέση με τα true news."
      ]
    },
    {
      "cell_type": "markdown",
      "metadata": {
        "id": "G6QzkRSino-h"
      },
      "source": [
        "#3:  Δημιουργία συνόλου εκμάθησης και δοκιμής"
      ]
    },
    {
      "cell_type": "code",
      "metadata": {
        "id": "HknKg-yFno-h",
        "colab": {
          "base_uri": "https://localhost:8080/"
        },
        "outputId": "22dc693c-19ba-4907-fb1d-533fef02f99f"
      },
      "source": [
        "def Get_Sentences(series):\n",
        "\n",
        "    output = []\n",
        "\n",
        "    for i in series:\n",
        "        output.append(i.split())\n",
        "    \n",
        "    return output\n",
        "        \n",
        "# Each text is now represented as list of its words\n",
        "sent = Get_Sentences(data['final_text'])\n",
        "sent[0]"
      ],
      "execution_count": 41,
      "outputs": [
        {
          "output_type": "execute_result",
          "data": {
            "text/plain": [
              "['donald',\n",
              " 'trump',\n",
              " 'sends',\n",
              " 'embarrassing',\n",
              " 'new',\n",
              " 'year',\n",
              " 'eve',\n",
              " 'message',\n",
              " 'disturbing',\n",
              " 'donald',\n",
              " 'trump',\n",
              " 'wish',\n",
              " 'americans',\n",
              " 'happy',\n",
              " 'new',\n",
              " 'year',\n",
              " 'leave',\n",
              " 'instead',\n",
              " 'give',\n",
              " 'shout',\n",
              " 'enemies',\n",
              " 'haters',\n",
              " 'dishonest',\n",
              " 'fake',\n",
              " 'news',\n",
              " 'media',\n",
              " 'former',\n",
              " 'reality',\n",
              " 'show',\n",
              " 'star',\n",
              " 'one',\n",
              " 'job',\n",
              " 'country',\n",
              " 'rapidly',\n",
              " 'grows',\n",
              " 'stronger',\n",
              " 'smarter',\n",
              " 'want',\n",
              " 'wish',\n",
              " 'friends',\n",
              " 'supporters',\n",
              " 'enemies',\n",
              " 'haters',\n",
              " 'even',\n",
              " 'dishonest',\n",
              " 'fake',\n",
              " 'news',\n",
              " 'media',\n",
              " 'happy',\n",
              " 'healthy',\n",
              " 'new',\n",
              " 'year',\n",
              " 'president',\n",
              " 'angry',\n",
              " 'pants',\n",
              " 'tweeted',\n",
              " '2018',\n",
              " 'great',\n",
              " 'year',\n",
              " 'america',\n",
              " 'country',\n",
              " 'rapidly',\n",
              " 'grows',\n",
              " 'stronger',\n",
              " 'smarter',\n",
              " 'want',\n",
              " 'wish',\n",
              " 'friends',\n",
              " 'supporters',\n",
              " 'enemies',\n",
              " 'haters',\n",
              " 'even',\n",
              " 'dishonest',\n",
              " 'fake',\n",
              " 'news',\n",
              " 'media',\n",
              " 'happy',\n",
              " 'healthy',\n",
              " 'new',\n",
              " 'year',\n",
              " '2018',\n",
              " 'great',\n",
              " 'year',\n",
              " 'america',\n",
              " 'donald',\n",
              " 'trump',\n",
              " 'realdonaldtrump',\n",
              " 'december',\n",
              " '31',\n",
              " '2017trump',\n",
              " 'tweet',\n",
              " 'went',\n",
              " 'welll',\n",
              " 'expect',\n",
              " 'kind',\n",
              " 'president',\n",
              " 'sends',\n",
              " 'new',\n",
              " 'year',\n",
              " 'greeting',\n",
              " 'like',\n",
              " 'despicable',\n",
              " 'petty',\n",
              " 'infantile',\n",
              " 'gibberish',\n",
              " 'trump',\n",
              " 'lack',\n",
              " 'decency',\n",
              " 'even',\n",
              " 'allow',\n",
              " 'rise',\n",
              " 'gutter',\n",
              " 'long',\n",
              " 'enough',\n",
              " 'wish',\n",
              " 'american',\n",
              " 'citizens',\n",
              " 'happy',\n",
              " 'new',\n",
              " 'year',\n",
              " 'bishop',\n",
              " 'talbert',\n",
              " 'swan',\n",
              " 'talbertswan',\n",
              " 'december',\n",
              " '31',\n",
              " '2017no',\n",
              " 'one',\n",
              " 'likes',\n",
              " 'calvin',\n",
              " 'calvinstowell',\n",
              " 'december',\n",
              " '31',\n",
              " '2017your',\n",
              " 'impeachment',\n",
              " 'would',\n",
              " 'make',\n",
              " '2018',\n",
              " 'great',\n",
              " 'year',\n",
              " 'america',\n",
              " 'also',\n",
              " 'accept',\n",
              " 'regaining',\n",
              " 'control',\n",
              " 'congress',\n",
              " 'miranda',\n",
              " 'yaver',\n",
              " 'mirandayaver',\n",
              " 'december',\n",
              " '31',\n",
              " '2017do',\n",
              " 'hear',\n",
              " 'talk',\n",
              " 'include',\n",
              " 'many',\n",
              " 'people',\n",
              " 'hate',\n",
              " 'wonder',\n",
              " 'hate',\n",
              " 'alan',\n",
              " 'sandoval',\n",
              " 'alansandoval13',\n",
              " 'december',\n",
              " '31',\n",
              " '2017who',\n",
              " 'uses',\n",
              " 'word',\n",
              " 'haters',\n",
              " 'new',\n",
              " 'years',\n",
              " 'wish',\n",
              " 'marlene',\n",
              " 'marlene399',\n",
              " 'december',\n",
              " '31',\n",
              " '2017you',\n",
              " 'say',\n",
              " 'happy',\n",
              " 'new',\n",
              " 'year',\n",
              " 'koren',\n",
              " 'pollitt',\n",
              " 'korencarpenter',\n",
              " 'december',\n",
              " '31',\n",
              " '2017here',\n",
              " 'trump',\n",
              " 'new',\n",
              " 'year',\n",
              " 'eve',\n",
              " 'tweet',\n",
              " '2016',\n",
              " 'happy',\n",
              " 'new',\n",
              " 'year',\n",
              " 'including',\n",
              " 'many',\n",
              " 'enemies',\n",
              " 'fought',\n",
              " 'lost',\n",
              " 'badly',\n",
              " 'know',\n",
              " 'love',\n",
              " 'donald',\n",
              " 'trump',\n",
              " 'realdonaldtrump',\n",
              " 'december',\n",
              " '31',\n",
              " '2016this',\n",
              " 'nothing',\n",
              " 'new',\n",
              " 'trump',\n",
              " 'years',\n",
              " 'trump',\n",
              " 'directed',\n",
              " 'messages',\n",
              " 'enemies',\n",
              " 'haters',\n",
              " 'new',\n",
              " 'year',\n",
              " 'easter',\n",
              " 'thanksgiving',\n",
              " 'anniversary',\n",
              " '11',\n",
              " 'pic',\n",
              " 'twitter',\n",
              " 'com',\n",
              " '4fpae2kypa',\n",
              " 'daniel',\n",
              " 'dale',\n",
              " 'ddale8',\n",
              " 'december',\n",
              " '31',\n",
              " '2017trump',\n",
              " 'holiday',\n",
              " 'tweets',\n",
              " 'clearly',\n",
              " 'presidential',\n",
              " 'long',\n",
              " 'work',\n",
              " 'hallmark',\n",
              " 'becoming',\n",
              " 'president',\n",
              " 'steven',\n",
              " 'goodine',\n",
              " 'sgoodine',\n",
              " 'december',\n",
              " '31',\n",
              " '2017he',\n",
              " 'always',\n",
              " 'like',\n",
              " 'difference',\n",
              " 'last',\n",
              " 'years',\n",
              " 'filter',\n",
              " 'breaking',\n",
              " 'roy',\n",
              " 'schulze',\n",
              " 'thbthttt',\n",
              " 'december',\n",
              " '31',\n",
              " '2017who',\n",
              " 'apart',\n",
              " 'teenager',\n",
              " 'uses',\n",
              " 'term',\n",
              " 'haters',\n",
              " 'wendy',\n",
              " 'wendywhistles',\n",
              " 'december',\n",
              " '31',\n",
              " '2017he',\n",
              " 'fucking',\n",
              " 'year',\n",
              " 'old',\n",
              " 'knows',\n",
              " 'rainyday80',\n",
              " 'december',\n",
              " '31',\n",
              " '2017so',\n",
              " 'people',\n",
              " 'voted',\n",
              " 'hole',\n",
              " 'thinking',\n",
              " 'would',\n",
              " 'change',\n",
              " 'got',\n",
              " 'power',\n",
              " 'wrong',\n",
              " '70',\n",
              " 'year',\n",
              " 'old',\n",
              " 'men',\n",
              " 'change',\n",
              " 'year',\n",
              " 'older',\n",
              " 'photo',\n",
              " 'andrew',\n",
              " 'burton',\n",
              " 'getty',\n",
              " 'images']"
            ]
          },
          "metadata": {
            "tags": []
          },
          "execution_count": 41
        }
      ]
    },
    {
      "cell_type": "code",
      "metadata": {
        "id": "F0IpgNFgno-h",
        "colab": {
          "base_uri": "https://localhost:8080/"
        },
        "outputId": "c9c2f48c-41fd-42f2-880e-01068b859ce9"
      },
      "source": [
        "# Train the Word2Vec model on our sentences using a dimensional size of 100, window of 5, and a min_count of 5 (these are default).\n",
        "wv_model = gensim.models.Word2Vec(sentences = sent, size = 100, window = 5, min_count = 5)\n",
        "print('%s words are now represented as a vector of size 100' % len(wv_model.wv.vocab))\n",
        "\n",
        "def GetSimilarWords(word):\n",
        "    word = word.lower()\n",
        "    return print('Most similar words to %s are: \\n%s' %(word,wv_model.wv.most_similar(word)))\n",
        "\n",
        "GetSimilarWords('read')\n",
        "GetSimilarWords('woman')\n",
        "GetSimilarWords('facebook')"
      ],
      "execution_count": 43,
      "outputs": [
        {
          "output_type": "stream",
          "text": [
            "46211 words are now represented as a vector of size 100\n",
            "Most similar words to read are: \n",
            "[('reading', 0.6560288667678833), ('reads', 0.6459441184997559), ('write', 0.6173866987228394), ('written', 0.5992113351821899), ('explaining', 0.5757557153701782), ('via', 0.5580096244812012), ('publish', 0.5566690564155579), ('courtesy', 0.49617451429367065), ('corrected', 0.4952148497104645), ('wrote', 0.49039095640182495)]\n",
            "Most similar words to woman are: \n",
            "[('man', 0.8131453990936279), ('girl', 0.746706485748291), ('person', 0.6645224690437317), ('victim', 0.6354830265045166), ('child', 0.625433087348938), ('boy', 0.6179454326629639), ('mother', 0.577867865562439), ('women', 0.5715675354003906), ('daughter', 0.5713748931884766), ('boys', 0.5619144439697266)]\n",
            "Most similar words to facebook are: \n",
            "[('reddit', 0.6427856087684631), ('instagram', 0.6317027807235718), ('google', 0.5952965617179871), ('fb', 0.5654352903366089), ('blog', 0.5599040985107422), ('huffington', 0.559237539768219), ('online', 0.5585808753967285), ('gofundme', 0.5456324815750122), ('4chan', 0.5416269302368164), ('website', 0.5359827280044556)]\n"
          ],
          "name": "stdout"
        }
      ]
    },
    {
      "cell_type": "markdown",
      "metadata": {
        "id": "LEqUa4m9no-j"
      },
      "source": [
        "Ας δημιουργήσουμε το μοντέλο"
      ]
    },
    {
      "cell_type": "code",
      "metadata": {
        "id": "LnGErGsRno-j"
      },
      "source": [
        "# Keras tools for creating our model\n",
        "from keras.preprocessing.text import Tokenizer\n",
        "from keras.preprocessing.sequence import pad_sequences\n",
        "from keras.models import Sequential\n",
        "from keras.layers import Dense, Embedding, LSTM\n",
        "from sklearn.model_selection import train_test_split\n",
        "from sklearn.metrics import classification_report, accuracy_score, confusion_matrix\n",
        "\n",
        "# Transform each word to a number in our corpus to be fed into the NN\n",
        "our_tokenizer = Tokenizer()\n",
        "our_tokenizer.fit_on_texts(sent)\n",
        "tokenized_sentences = our_tokenizer.texts_to_sequences(sent)\n",
        "\n",
        "tokenized_sentences = pad_sequences(tokenized_sentences, maxlen = 800)\n",
        "target = data['label'].values\n",
        "target = [1 if x == 'True' else 0 for x in target]"
      ],
      "execution_count": 45,
      "outputs": []
    },
    {
      "cell_type": "code",
      "metadata": {
        "id": "IwJvv78fno-m"
      },
      "source": [
        "# Create our training and testing split\n",
        "X_train, X_test, y_train, y_test = train_test_split(tokenized_sentences, target, test_size = 0.20, random_state = 0)\n",
        "\n",
        "vocabulary_length = len(our_tokenizer.word_index) + 1\n",
        "\n",
        "def GetEmbeddingMatrix(dictionary_of_words, word2vec_model, vocabulary_length, embedding_size = 100):\n",
        "\n",
        "    # Define an empty matrix\n",
        "    embedding_matrix = np.zeros((vocabulary_length, embedding_size))\n",
        "\n",
        "    # For each word store the vector in the matrix using the position of i\n",
        "    for word, i in dictionary_of_words.items():\n",
        "        if not word2vec_model.wv.__contains__(word):\n",
        "            continue\n",
        "        else:\n",
        "            embedding_matrix[i] = word2vec_model.wv.__getitem__(word)\n",
        "    return embedding_matrix\n",
        "\n",
        "embedding_matrix = GetEmbeddingMatrix(our_tokenizer.word_index, wv_model, vocabulary_length)"
      ],
      "execution_count": 47,
      "outputs": []
    },
    {
      "cell_type": "code",
      "metadata": {
        "id": "Qt3IW53wno-p"
      },
      "source": [
        "model = Sequential()\n",
        "embedding_layer = Embedding(vocabulary_length, output_dim = 100, weights = [embedding_matrix], input_length = 800, trainable = False)\n",
        "\n",
        "model.add(embedding_layer)\n",
        "model.add(LSTM(units = 128))\n",
        "model.add(Dense(1, activation = 'sigmoid'))\n",
        "model.compile(optimizer = 'adam', loss = 'binary_crossentropy', metrics = ['acc'])"
      ],
      "execution_count": 48,
      "outputs": []
    },
    {
      "cell_type": "markdown",
      "metadata": {
        "id": "lAb6_iPFno-q"
      },
      "source": [
        "Μοντέλο"
      ]
    },
    {
      "cell_type": "code",
      "metadata": {
        "id": "Y4sae4ZJno-q",
        "colab": {
          "base_uri": "https://localhost:8080/"
        },
        "outputId": "957db5e1-0d52-41f2-9689-d32573abcdda"
      },
      "source": [
        "\n",
        "history = model.fit(np.array(X_train), np.array(y_train), validation_split = 0.3, epochs = 10)"
      ],
      "execution_count": 55,
      "outputs": [
        {
          "output_type": "stream",
          "text": [
            "Epoch 1/10\n",
            "786/786 [==============================] - 580s 715ms/step - loss: 0.1539 - acc: 0.9438 - val_loss: 0.1021 - val_acc: 0.9726\n",
            "Epoch 2/10\n",
            "786/786 [==============================] - 562s 715ms/step - loss: 0.0540 - acc: 0.9823 - val_loss: 0.0595 - val_acc: 0.9807\n",
            "Epoch 3/10\n",
            "786/786 [==============================] - 561s 714ms/step - loss: 0.0260 - acc: 0.9932 - val_loss: 0.0206 - val_acc: 0.9959\n",
            "Epoch 4/10\n",
            "786/786 [==============================] - 561s 714ms/step - loss: 0.0070 - acc: 0.9982 - val_loss: 0.0169 - val_acc: 0.9954\n",
            "Epoch 5/10\n",
            "786/786 [==============================] - 561s 714ms/step - loss: 0.0121 - acc: 0.9972 - val_loss: 0.0185 - val_acc: 0.9968\n",
            "Epoch 6/10\n",
            "786/786 [==============================] - 561s 714ms/step - loss: 0.0071 - acc: 0.9986 - val_loss: 0.0148 - val_acc: 0.9974\n",
            "Epoch 7/10\n",
            "786/786 [==============================] - 561s 714ms/step - loss: 0.0023 - acc: 0.9993 - val_loss: 0.0146 - val_acc: 0.9974\n",
            "Epoch 8/10\n",
            "786/786 [==============================] - 560s 713ms/step - loss: 0.0015 - acc: 0.9997 - val_loss: 0.0176 - val_acc: 0.9976\n",
            "Epoch 9/10\n",
            "786/786 [==============================] - 561s 714ms/step - loss: 2.2250e-04 - acc: 1.0000 - val_loss: 0.0193 - val_acc: 0.9975\n",
            "Epoch 10/10\n",
            "786/786 [==============================] - 561s 714ms/step - loss: 0.0055 - acc: 0.9984 - val_loss: 0.0325 - val_acc: 0.9911\n"
          ],
          "name": "stdout"
        }
      ]
    },
    {
      "cell_type": "code",
      "metadata": {
        "id": "GxFq8ynLno-r",
        "colab": {
          "base_uri": "https://localhost:8080/",
          "height": 573
        },
        "outputId": "85fa134f-8108-4335-dd64-cc6ab423c2c3"
      },
      "source": [
        "#Model Accuracy\n",
        "plt.plot(history.history['acc'])\n",
        "plt.plot(history.history['val_acc'])\n",
        "plt.title('Model Accuracy')\n",
        "plt.ylabel('Accuracy')\n",
        "plt.xlabel('Epoch')\n",
        "plt.legend(['train','test'], loc = 'lower right')\n",
        "plt.show()\n",
        "\n",
        "#Model loss\n",
        "plt.plot(history.history['loss'])\n",
        "plt.plot(history.history['val_loss'])\n",
        "plt.title('Model Loss')\n",
        "plt.ylabel('Loss')\n",
        "plt.xlabel('Epoch')\n",
        "plt.legend(['train','test'], loc = 'upper right')\n",
        "plt.show()"
      ],
      "execution_count": 58,
      "outputs": [
        {
          "output_type": "display_data",
          "data": {
            "image/png": "[encoded data removed]",
            "text/plain": [
              "<Figure size 432x288 with 1 Axes>"
            ]
          },
          "metadata": {
            "tags": [],
            "needs_background": "light"
          }
        },
        {
          "output_type": "display_data",
          "data": {
            "image/png": "[encoded data removed]",
            "text/plain": [
              "<Figure size 432x288 with 1 Axes>"
            ]
          },
          "metadata": {
            "tags": [],
            "needs_background": "light"
          }
        }
      ]
    },
    {
      "cell_type": "markdown",
      "metadata": {
        "id": "uHV2UMfKno-s"
      },
      "source": [
        "Για να υπολογίσουμε accuracy, αρχίζουμε με ένα μικρό epochs=2 και σταδιακά το αυξάνουμε ."
      ]
    },
    {
      "cell_type": "code",
      "metadata": {
        "id": "wPZJgG0Cno-u",
        "colab": {
          "base_uri": "https://localhost:8080/"
        },
        "outputId": "caf1ead6-496c-41c2-ddea-7080a379b0ed"
      },
      "source": [
        "predictions = model.predict(X_test)\n",
        "# For predictions with probability above 50% we will take as True and the rest as Fake\n",
        "predictions = (predictions >= 0.5).astype(int)\n",
        "\n",
        "confusion_report = confusion_matrix(y_test,predictions)\n",
        "tn, fp, fn, tp = confusion_report.ravel()\n",
        "\n",
        "print('True positive (Actual and predicted True): %s' % tp)\n",
        "print('True negative (Actual and predicted False): %s' % tn)\n",
        "print('False positive (Predicted True but actually False): %s' % fp)\n",
        "print('False negative (Predicted False but actually True): %s' % fn)"
      ],
      "execution_count": 60,
      "outputs": [
        {
          "output_type": "stream",
          "text": [
            "True positive (Actual and predicted True): 4224\n",
            "True negative (Actual and predicted False): 4686\n",
            "False positive (Predicted True but actually False): 30\n",
            "False negative (Predicted False but actually True): 38\n"
          ],
          "name": "stdout"
        }
      ]
    },
    {
      "cell_type": "code",
      "metadata": {
        "id": "EwYiAiZtno-u",
        "colab": {
          "base_uri": "https://localhost:8080/"
        },
        "outputId": "52fcd5a6-d47c-4e6c-9e87-cc71c24879a9"
      },
      "source": [
        "tpr = tp / (tp + fn)\n",
        "tnr = tn / (tn + fp)\n",
        "fpr = fp / (fp + tn)\n",
        "fnr = fn / (fn + tp)\n",
        "\n",
        "FalseOmissionRate = fn / (fn + tn)\n",
        "Precision = tp / (tp + fp)\n",
        "\n",
        "\n",
        "print('True positive rate is proportion of correctly classified results as True (Recall): %s' %round(tpr,4))\n",
        "print('\\nTrue negative rate is proportion of correctly classified results as False (Specificity): %s' %round(tnr,4))\n",
        "print('\\nFalse positive rate is proportion of incorrectly classified results as True: %s' %round(fpr,4))\n",
        "print('\\nFalse negative rate is proportion of incorrectly classified results as False: %s' %round(fnr,4))\n",
        "print('\\nPrecision is proportion of correctly classified True results from all predicted True results: %s' %round(precision,4))\n",
        "print('\\nFalse ommision rate is proportion of incorrectly classified False results from all predicted False results: %s' %round(FalseOmissionRate,4))"
      ],
      "execution_count": 62,
      "outputs": [
        {
          "output_type": "stream",
          "text": [
            "True positive rate is proportion of correctly classified results as True (Recall): 0.9911\n",
            "\n",
            "True negative rate is proportion of correctly classified results as False (Specificity): 0.9936\n",
            "\n",
            "False positive rate is proportion of incorrectly classified results as True: 0.0064\n",
            "\n",
            "False negative rate is proportion of incorrectly classified results as False: 0.0089\n",
            "\n",
            "Precision is proportion of correctly classified True results from all predicted True results: 0.9929\n",
            "\n",
            "False ommision rate is proportion of incorrectly classified False results from all predicted False results: 0.008\n"
          ],
          "name": "stdout"
        }
      ]
    },
    {
      "cell_type": "markdown",
      "metadata": {
        "id": "B9eFrJddsoQe"
      },
      "source": [
        "Θα 'λεγε κανείς ότι έχουμε υψηλή ακρίβεια καθώς έχουμε υψηλή ανάκληση σε συνδυασμό με χαμηλό false positive/negative ποσοστό ."
      ]
    }
  ]
}